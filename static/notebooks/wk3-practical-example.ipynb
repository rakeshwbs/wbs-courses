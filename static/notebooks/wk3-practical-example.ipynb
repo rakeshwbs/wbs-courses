{
  "nbformat": 4,
  "nbformat_minor": 0,
  "metadata": {
    "colab": {
      "provenance": []
    },
    "kernelspec": {
      "name": "python3",
      "display_name": "Python 3"
    },
    "language_info": {
      "name": "python"
    }
  },
  "cells": [
    {
      "cell_type": "markdown",
      "source": [
        "\n",
        "## Putting It All Together: A Code Example\n",
        "\n",
        "Let's apply what we've learned by training a simple **Linear Regression** model using Python's Scikit-learn library.\n",
        "### Our goal is to predict a value based on a single input feature.\n"
      ],
      "metadata": {
        "id": "ph_1m2WgVG2F"
      }
    },
    {
      "cell_type": "code",
      "source": [
        "import numpy as np\n",
        "from sklearn.model_selection import train_test_split\n",
        "from sklearn.linear_model import LinearRegression\n",
        "from sklearn.metrics import mean_squared_error, r2_score\n",
        "X = np.array([[1], [2], [3], [4], [5], [6], [7], [8], [9], [10]])\n",
        "y = np.array([5.1, 6.9, 9.2, 11, 13.3, 15.2, 17.1, 18.9, 21.3, 23])\n",
        "# 2. Split data into training and testing sets\n",
        "# We use the test set to get an unbiased evaluation of our final model.\n",
        "X_train, X_test, y_train, y_test = train_test_split(X, y, test_size=0.3, random_state=42)\n",
        "\n",
        "# 3. Initialize the Model\n",
        "# This creates an instance of the Linear Regression model.\n",
        "model = LinearRegression()\n",
        "\n",
        "# 4. Train the Model\n",
        "# The .fit() method is where the training loop (gradient descent, etc.) happens.\n",
        "# Scikit-learn does all the hard work for us!\n",
        "model.fit(X_train, y_train)\n",
        "\n",
        "# 5. Make Predictions\n",
        "# Use the trained model to predict on the unseen test data.\n",
        "y_pred = model.predict(X_test)\n",
        "\n",
        "# 6. Evaluate the Model\n",
        "# We use the metrics we learned about earlier.\n",
        "mse = mean_squared_error(y_test, y_pred)\n",
        "r2 = r2_score(y_test, y_pred)\n",
        "\n",
        "# Print the results\n",
        "print(f\"Model's learned slope (weight): {model.coef_[0]:.2f}\")\n",
        "print(f\"Model's learned intercept (bias): {model.intercept_:.2f}\")\n",
        "print(f\"--- Evaluation on Test Set ---\")\n",
        "print(f\"Mean Squared Error (MSE): {mse:.2f}\")\n",
        "print(f\"R-squared (R²) Score: {r2:.2f}\")"
      ],
      "metadata": {
        "colab": {
          "base_uri": "https://localhost:8080/"
        },
        "id": "Gez719BDVunS",
        "outputId": "a99c68ab-a316-4d3e-f3d2-cc00a8998013"
      },
      "execution_count": 3,
      "outputs": [
        {
          "output_type": "stream",
          "name": "stdout",
          "text": [
            "Model's learned slope (weight): 1.98\n",
            "Model's learned intercept (bias): 3.19\n",
            "--- Evaluation on Test Set ---\n",
            "Mean Squared Error (MSE): 0.05\n",
            "R-squared (R²) Score: 1.00\n"
          ]
        }
      ]
    },
    {
      "cell_type": "code",
      "source": [],
      "metadata": {
        "id": "S1apKENDWTwf"
      },
      "execution_count": null,
      "outputs": []
    }
  ]
}