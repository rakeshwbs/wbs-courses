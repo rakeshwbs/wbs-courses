{
 "cells": [
  {
   "cell_type": "code",
   "execution_count": null,
   "id": "4df3abc4",
   "metadata": {},
   "outputs": [],
   "source": [
    "# An integer (a whole number)\n",
    "num_of_samples = 100\n",
    "print(\"Type of num_of_samples is:\", type(num_of_samples))\n",
    "\n",
    "# A float (a number with a decimal point)\n",
    "learning_rate = 0.001\n",
    "print(\"Type of learning_rate is:\", type(learning_rate))\n",
    "\n",
    "# A string (text)\n",
    "model_name = \"Classifier_v1\"\n",
    "print(\"Type of model_name is:\", type(model_name))\n",
    "\n",
    "# A list (a collection of items)\n",
    "# In AI, this could be a list of features or data points.\n",
    "feature_names = [\"age\", \"height\", \"weight\"]\n",
    "print(\"This is a list:\", feature_names)"
   ]
  }
 ],
 "metadata": {
  "language_info": {
   "name": "python"
  }
 },
 "nbformat": 4,
 "nbformat_minor": 5
}
