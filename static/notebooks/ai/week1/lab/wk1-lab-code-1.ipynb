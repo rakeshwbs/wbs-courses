{
 "cells": [
  {
   "cell_type": "code",
   "execution_count": null,
   "id": "4df3abc4",
   "metadata": {},
   "outputs": [],
   "source": [
    "# This is a comment. Python ignores lines starting with #.\n",
    "# Let's create our first variable.\n",
    "message = \"Hello, AI!\"\n",
    "\n",
    "# Now, let's print the content of the variable.\n",
    "print(message)\n",
    "\n",
    "# We can also do math.\n",
    "a = 10\n",
    "b = 25\n",
    "print(a + b)"
   ]
  }
 ],
 "metadata": {
  "language_info": {
   "name": "python"
  }
 },
 "nbformat": 4,
 "nbformat_minor": 5
}
